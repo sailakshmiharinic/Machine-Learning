{
 "cells": [
  {
   "cell_type": "markdown",
   "metadata": {
    "id": "5bjzm6hBz_EM"
   },
   "source": [
    "# STEP 0: PROBLEM STATEMENT"
   ]
  },
  {
   "cell_type": "markdown",
   "metadata": {
    "id": "qw0Infukz_EO"
   },
   "source": [
    "- In this case study, you have been provided with images of traffic signs and the goal is to train to classify them\n",
    "- The dataset contains 43 different classes of images. \n",
    "- Classes are as listed below: \n",
    "\n",
    "    - ( 0, b'Speed limit (20m/h)') ( 1, b'Speed limit (30m/h)')\n",
    "    - ( 2, b'Speed limit (50m/h)') ( 3, b'Speed limit (60m/h)')\n",
    "    - ( 4, b'Speed limit (70m/h)') ( 5, b'Speed limit (80m/h)')\n",
    "    - ( 6, b'End of speed limit (80m/h)') ( 7, b'Speed limit (100m/h)')\n",
    "    - ( 8, b'Speed limit (120m/h)') ( 9, b'No passing')\n",
    "    - (10, b'No passing for vehicles over 3.5 metric tons')\n",
    "    - (11, b'Right-of-way at the next intersection') (12, b'Priority road')\n",
    "    - (13, b'Yield') (14, b'Stop') (15, b'No vehicles')\n",
    "    - (16, b'Vehicles over 3.5 metric tons prohibited') (17, b'No entry')\n",
    "    - (18, b'General caution') (19, b'Dangerous curve to the left')\n",
    "    - (20, b'Dangerous curve to the right') (21, b'Double curve')\n",
    "    - (22, b'Bumpy road') (23, b'Slippery road')\n",
    "    - (24, b'Road narrows on the right') (25, b'Road work')\n",
    "    - (26, b'Traffic signals') (27, b'Pedestrians') (28, b'Children crossing')\n",
    "    - (29, b'Bicycles crossing') (30, b'Beware of ice/snow')\n",
    "    - (31, b'Wild animals crossing')\n",
    "    - (32, b'End of all speed and passing limits') (33, b'Turn right ahead')\n",
    "    - (34, b'Turn left ahead') (35, b'Ahead only') (36, b'Go straight or right')\n",
    "    - (37, b'Go straight or left') (38, b'Keep right') (39, b'Keep left')\n",
    "    - (40, b'Roundabout mandatory') (41, b'End of no passing')\n",
    "    - (42, b'End of no passing by vehicles over 3.5 metric tons')\n",
    "\n",
    "\n"
   ]
  },
  {
   "cell_type": "markdown",
   "metadata": {
    "id": "-G4OFGl5z_ER"
   },
   "source": [
    "# STEP 1: IMPORT LIBRARIES AND DATASET"
   ]
  },
  {
   "cell_type": "code",
   "execution_count": 1,
   "metadata": {
    "id": "DA2ZV0QEz_ET"
   },
   "outputs": [],
   "source": [
    "import warnings\n",
    "warnings.filterwarnings(\"ignore\")"
   ]
  },
  {
   "cell_type": "code",
   "execution_count": 2,
   "metadata": {
    "id": "0J8fSBsbz_EV"
   },
   "outputs": [],
   "source": [
    "# import libraries \n",
    "import pickle\n",
    "import seaborn as sns\n",
    "import pandas as pd # Import Pandas for data manipulation using dataframes\n",
    "import numpy as np # Import Numpy for data statistical analysis \n",
    "import matplotlib.pyplot as plt # Import matplotlib for data visualisation\n",
    "import random"
   ]
  },
  {
   "cell_type": "code",
   "execution_count": 3,
   "metadata": {
    "colab": {
     "base_uri": "https://localhost:8080/"
    },
    "id": "SXp5yj_70W4f",
    "outputId": "92c6eb21-192b-42c5-9d2e-43b2ac5a6cc6"
   },
   "outputs": [],
   "source": [
    "# from google.colab import drive\n",
    "# drive.mount('/content/drive')"
   ]
  },
  {
   "cell_type": "code",
   "execution_count": 4,
   "metadata": {
    "id": "ee3fUxfJz_EW"
   },
   "outputs": [],
   "source": [
    "# The pickle module implements binary protocols for serializing and de-serializing a Python object structure.\n",
    "with open(\"train.p\", mode='rb') as training_data:\n",
    "    train = pickle.load(training_data)\n",
    "with open(\"valid.p\", mode='rb') as validation_data:\n",
    "    valid = pickle.load(validation_data)\n",
    "with open(\"test.p\", mode='rb') as testing_data:\n",
    "    test = pickle.load(testing_data)"
   ]
  },
  {
   "cell_type": "code",
   "execution_count": 5,
   "metadata": {
    "id": "uvhOgvXUz_EY"
   },
   "outputs": [],
   "source": [
    "X_train, Y_train = train['features'], train['labels']\n",
    "X_validation, Y_validation = valid['features'], valid['labels']\n",
    "X_test, Y_test = test['features'], test['labels']"
   ]
  },
  {
   "cell_type": "code",
   "execution_count": 6,
   "metadata": {
    "colab": {
     "base_uri": "https://localhost:8080/"
    },
    "id": "FBi1qx69z_Ea",
    "outputId": "8a950450-55d9-4a5e-ae10-0b3b20aece49"
   },
   "outputs": [
    {
     "data": {
      "text/plain": [
       "4410"
      ]
     },
     "execution_count": 6,
     "metadata": {},
     "output_type": "execute_result"
    }
   ],
   "source": [
    "len(X_validation)"
   ]
  },
  {
   "cell_type": "code",
   "execution_count": 7,
   "metadata": {
    "colab": {
     "base_uri": "https://localhost:8080/"
    },
    "id": "FscgrdTcz_Ed",
    "outputId": "63c4c7dc-61ce-411f-8c2d-c8b40012759a"
   },
   "outputs": [
    {
     "data": {
      "text/plain": [
       "(34799, 32, 32, 3)"
      ]
     },
     "execution_count": 7,
     "metadata": {},
     "output_type": "execute_result"
    }
   ],
   "source": [
    "X_train.shape"
   ]
  },
  {
   "cell_type": "code",
   "execution_count": 8,
   "metadata": {
    "colab": {
     "base_uri": "https://localhost:8080/"
    },
    "id": "L8_BFbcgz_Ef",
    "outputId": "fbc021d4-67da-48cb-b9db-a44d035d1c0e"
   },
   "outputs": [
    {
     "data": {
      "text/plain": [
       "(34799,)"
      ]
     },
     "execution_count": 8,
     "metadata": {},
     "output_type": "execute_result"
    }
   ],
   "source": [
    "Y_train.shape"
   ]
  },
  {
   "cell_type": "code",
   "execution_count": 9,
   "metadata": {
    "colab": {
     "base_uri": "https://localhost:8080/"
    },
    "id": "fuXhYtfUz_Eg",
    "outputId": "c6553d69-4261-4b65-f4b4-0c9b536b62a8"
   },
   "outputs": [
    {
     "data": {
      "text/plain": [
       "0"
      ]
     },
     "execution_count": 9,
     "metadata": {},
     "output_type": "execute_result"
    }
   ],
   "source": [
    "X_train.min()"
   ]
  },
  {
   "cell_type": "code",
   "execution_count": 10,
   "metadata": {
    "colab": {
     "base_uri": "https://localhost:8080/"
    },
    "id": "N8GRToG2z_Eh",
    "outputId": "96dd3ed1-e729-4f1d-a32d-74a8800a50b8"
   },
   "outputs": [
    {
     "data": {
      "text/plain": [
       "255"
      ]
     },
     "execution_count": 10,
     "metadata": {},
     "output_type": "execute_result"
    }
   ],
   "source": [
    "X_train.max()"
   ]
  },
  {
   "cell_type": "markdown",
   "metadata": {
    "id": "l4ASgS5Tz_Ej"
   },
   "source": [
    "# STEP 2: IMAGE EXPLORATION"
   ]
  },
  {
   "cell_type": "code",
   "execution_count": 13,
   "metadata": {
    "colab": {
     "base_uri": "https://localhost:8080/",
     "height": 283
    },
    "id": "Tyxv-6Wkz_Ek",
    "outputId": "2314a467-0bbb-4b0f-9f76-85186656c534"
   },
   "outputs": [
    {
     "data": {
      "text/plain": [
       "41"
      ]
     },
     "execution_count": 13,
     "metadata": {},
     "output_type": "execute_result"
    },
    {
     "data": {
      "image/png": "[encoded data removed]",
      "text/plain": [
       "<Figure size 432x288 with 1 Axes>"
      ]
     },
     "metadata": {
      "needs_background": "light"
     },
     "output_type": "display_data"
    }
   ],
   "source": [
    "i = 23\n",
    "plt.imshow(X_train[i]) # Show images are not shuffled\n",
    "Y_train[i]"
   ]
  },
  {
   "cell_type": "code",
   "execution_count": 14,
   "metadata": {
    "colab": {
     "base_uri": "https://localhost:8080/",
     "height": 283
    },
    "id": "jtmU_sJ5z_El",
    "outputId": "3e7bc771-faae-4ce2-8d3b-7c7a9d492084"
   },
   "outputs": [
    {
     "data": {
      "text/plain": [
       "31"
      ]
     },
     "execution_count": 14,
     "metadata": {},
     "output_type": "execute_result"
    },
    {
     "data": {
      "image/png": "[encoded data removed]",
      "text/plain": [
       "<Figure size 432x288 with 1 Axes>"
      ]
     },
     "metadata": {
      "needs_background": "light"
     },
     "output_type": "display_data"
    }
   ],
   "source": [
    "i = 56\n",
    "plt.imshow(X_validation[i]) # Show images are not shuffled\n",
    "Y_validation[i]"
   ]
  },
  {
   "cell_type": "code",
   "execution_count": 15,
   "metadata": {
    "colab": {
     "base_uri": "https://localhost:8080/",
     "height": 283
    },
    "id": "JviQQimVz_Em",
    "outputId": "04391d1a-856d-45ec-9d90-14a3d9f6bcf1"
   },
   "outputs": [
    {
     "data": {
      "text/plain": [
       "41"
      ]
     },
     "execution_count": 15,
     "metadata": {},
     "output_type": "execute_result"
    },
    {
     "data": {
      "image/png": "[encoded data removed]",
      "text/plain": [
       "<Figure size 432x288 with 1 Axes>"
      ]
     },
     "metadata": {
      "needs_background": "light"
     },
     "output_type": "display_data"
    }
   ],
   "source": [
    "i = 123\n",
    "plt.imshow(X_train[i]) # Show images are not shuffled\n",
    "Y_train[i]"
   ]
  },
  {
   "cell_type": "markdown",
   "metadata": {
    "id": "y4-1aYE9z_En"
   },
   "source": [
    "# STEP 3: DATA PREPARATION"
   ]
  },
  {
   "cell_type": "code",
   "execution_count": 14,
   "metadata": {},
   "outputs": [
    {
     "data": {
      "text/plain": [
       "<matplotlib.axes._subplots.AxesSubplot at 0x258da3e7d00>"
      ]
     },
     "execution_count": 14,
     "metadata": {},
     "output_type": "execute_result"
    },
    {
     "data": {
      "image/png": "[encoded data removed]",
      "text/plain": [
       "<Figure size 842.4x595.44 with 1 Axes>"
      ]
     },
     "metadata": {
      "needs_background": "light"
     },
     "output_type": "display_data"
    }
   ],
   "source": [
    "a4_dims = (11.7, 8.27)\n",
    "from matplotlib import pyplot\n",
    "fig, ax = pyplot.subplots(figsize=a4_dims)\n",
    "sns.countplot(Y_train, ax =ax, label = \"Count\")"
   ]
  },
  {
   "cell_type": "code",
   "execution_count": 15,
   "metadata": {
    "id": "SmVnl9htz_Eo"
   },
   "outputs": [],
   "source": [
    "## Shuffle the dataset \n",
    "from sklearn.utils import shuffle\n",
    "X_train, Y_train = shuffle(X_train, Y_train)"
   ]
  },
  {
   "cell_type": "code",
   "execution_count": 16,
   "metadata": {
    "colab": {
     "base_uri": "https://localhost:8080/"
    },
    "id": "MCo5elktz_Ep",
    "outputId": "fd9a6d43-9b71-4a76-fd0f-4fcac5efebd7"
   },
   "outputs": [
    {
     "data": {
      "text/plain": [
       "34799"
      ]
     },
     "execution_count": 16,
     "metadata": {},
     "output_type": "execute_result"
    }
   ],
   "source": [
    "len(X_train)"
   ]
  },
  {
   "cell_type": "code",
   "execution_count": 17,
   "metadata": {
    "colab": {
     "base_uri": "https://localhost:8080/"
    },
    "id": "5HzQBFnoz_Eq",
    "outputId": "c108edde-4bf7-4147-b0ce-e7d5e6d20898"
   },
   "outputs": [
    {
     "data": {
      "text/plain": [
       "(34799, 32, 32, 3)"
      ]
     },
     "execution_count": 17,
     "metadata": {},
     "output_type": "execute_result"
    }
   ],
   "source": [
    "X_train.shape"
   ]
  },
  {
   "cell_type": "code",
   "execution_count": 18,
   "metadata": {
    "id": "yi4iZrxAz_Er"
   },
   "outputs": [],
   "source": [
    "X_train = np.sum(X_train/3, axis=3)\n",
    "X_test  = np.sum(X_test/3, axis=3)\n",
    "X_validation  = np.sum(X_validation/3, axis=3) "
   ]
  },
  {
   "cell_type": "code",
   "execution_count": 19,
   "metadata": {
    "id": "4YXZ4W-Wz_Et"
   },
   "outputs": [],
   "source": [
    "import cv2\n",
    "from skimage.filters import prewitt_h,prewitt_v"
   ]
  },
  {
   "cell_type": "code",
   "execution_count": 20,
   "metadata": {},
   "outputs": [],
   "source": [
    "train_1 = []\n",
    "for i in range(len(X_train)):\n",
    "    vertical = prewitt_h(X_train[i])\n",
    "    train_1.append(vertical)\n",
    "    "
   ]
  },
  {
   "cell_type": "code",
   "execution_count": 21,
   "metadata": {},
   "outputs": [],
   "source": [
    "test_1 = []\n",
    "for i in range(len(X_test)):\n",
    "    vertical = prewitt_h(X_test[i])\n",
    "    test_1.append(vertical)"
   ]
  },
  {
   "cell_type": "code",
   "execution_count": 22,
   "metadata": {},
   "outputs": [],
   "source": [
    "validation_1 = []\n",
    "for i in range(len(X_validation)):\n",
    "    vertical = prewitt_h(X_validation[i])\n",
    "    validation_1.append(vertical)"
   ]
  },
  {
   "cell_type": "code",
   "execution_count": 23,
   "metadata": {
    "id": "mQhT24AAz_Eu"
   },
   "outputs": [],
   "source": [
    "train_data=[]\n",
    "side = 20\n",
    "channels = 1\n",
    "\n",
    "for i in range (0,len(train_1)):\n",
    "        train_image = train_1[i]\n",
    "        image_resized = cv2.resize(train_image, (side, side), interpolation = cv2.INTER_AREA)\n",
    "        train_data.append(np.array(image_resized))"
   ]
  },
  {
   "cell_type": "code",
   "execution_count": 24,
   "metadata": {
    "id": "mysbFfXGz_Ev"
   },
   "outputs": [],
   "source": [
    "test_data=[]\n",
    "side = 20\n",
    "channels = 1\n",
    "\n",
    "for i in range (0,len(test_1)):\n",
    "        train_image = test_1[i]\n",
    "        image_resized = cv2.resize(train_image, (side, side), interpolation = cv2.INTER_AREA)\n",
    "        test_data.append(np.array(image_resized))"
   ]
  },
  {
   "cell_type": "code",
   "execution_count": 25,
   "metadata": {
    "id": "2Xux2obiz_Ew"
   },
   "outputs": [],
   "source": [
    "validation_data=[]\n",
    "side = 20\n",
    "channels = 1\n",
    "\n",
    "for i in range (0,len(validation_1)):\n",
    "        train_image = validation_1[i]\n",
    "        image_resized = cv2.resize(train_image, (side, side), interpolation = cv2.INTER_AREA)\n",
    "        validation_data.append(np.array(image_resized))"
   ]
  },
  {
   "cell_type": "code",
   "execution_count": 26,
   "metadata": {
    "id": "lxBZjggXz_Ey"
   },
   "outputs": [],
   "source": [
    "def clean(data):\n",
    "    data = np.array(data)\n",
    "    data = data.reshape((data.shape[0], 20*20*1))\n",
    "    data = data.astype(float)/255\n",
    "    return data"
   ]
  },
  {
   "cell_type": "code",
   "execution_count": 27,
   "metadata": {
    "id": "ZEEXJ-NSz_Ez"
   },
   "outputs": [],
   "source": [
    "X_train = clean(train_data)\n",
    "X_test = clean(test_data)\n",
    "X_validation = clean(validation_data)"
   ]
  },
  {
   "cell_type": "code",
   "execution_count": 28,
   "metadata": {
    "colab": {
     "base_uri": "https://localhost:8080/"
    },
    "id": "KItkg2Prz_E0",
    "outputId": "00274217-e99c-4c06-b570-65fa17f68a1b"
   },
   "outputs": [
    {
     "data": {
      "text/plain": [
       "(34799, 400)"
      ]
     },
     "execution_count": 28,
     "metadata": {},
     "output_type": "execute_result"
    }
   ],
   "source": [
    "X_train.shape"
   ]
  },
  {
   "cell_type": "code",
   "execution_count": 29,
   "metadata": {
    "id": "Ru4lL9iIz_E1"
   },
   "outputs": [],
   "source": [
    "labels = np.array(Y_validation)\n",
    "from sklearn.preprocessing import LabelEncoder\n",
    "le = LabelEncoder()\n",
    "labels = le.fit_transform(Y_train)\n",
    "labels = le.fit_transform(Y_test)\n",
    "labels = le.fit_transform(Y_validation)"
   ]
  },
  {
   "cell_type": "markdown",
   "metadata": {},
   "source": [
    "# Random Forest"
   ]
  },
  {
   "cell_type": "code",
   "execution_count": 30,
   "metadata": {},
   "outputs": [
    {
     "data": {
      "text/plain": [
       "RandomForestClassifier(random_state=0)"
      ]
     },
     "execution_count": 30,
     "metadata": {},
     "output_type": "execute_result"
    }
   ],
   "source": [
    "#Random Forest\n",
    "from sklearn.ensemble import RandomForestClassifier\n",
    "model = RandomForestClassifier( random_state=0)\n",
    "model.fit(X_train,Y_train)"
   ]
  },
  {
   "cell_type": "markdown",
   "metadata": {
    "id": "f14BcaRdz_E3"
   },
   "source": [
    "# Predicting Training Set Results \n"
   ]
  },
  {
   "cell_type": "code",
   "execution_count": 31,
   "metadata": {
    "colab": {
     "background_save": true
    },
    "id": "R3WIcJbKz_E4"
   },
   "outputs": [],
   "source": [
    "Y_pred_train = model.predict(X_train)"
   ]
  },
  {
   "cell_type": "code",
   "execution_count": 32,
   "metadata": {
    "colab": {
     "background_save": true
    },
    "id": "-TXAesfTz_E4",
    "outputId": "ae176b4c-7e3f-40d4-f72e-471d243dca4b"
   },
   "outputs": [
    {
     "name": "stdout",
     "output_type": "stream",
     "text": [
      "              precision    recall  f1-score   support\n",
      "\n",
      "           0       1.00      1.00      1.00       180\n",
      "           1       1.00      1.00      1.00      1980\n",
      "           2       1.00      1.00      1.00      2010\n",
      "           3       1.00      1.00      1.00      1260\n",
      "           4       1.00      1.00      1.00      1770\n",
      "           5       1.00      1.00      1.00      1650\n",
      "           6       1.00      1.00      1.00       360\n",
      "           7       1.00      1.00      1.00      1290\n",
      "           8       1.00      1.00      1.00      1260\n",
      "           9       1.00      1.00      1.00      1320\n",
      "          10       1.00      1.00      1.00      1800\n",
      "          11       1.00      1.00      1.00      1170\n",
      "          12       1.00      1.00      1.00      1890\n",
      "          13       1.00      1.00      1.00      1920\n",
      "          14       1.00      1.00      1.00       690\n",
      "          15       1.00      1.00      1.00       540\n",
      "          16       1.00      1.00      1.00       360\n",
      "          17       1.00      1.00      1.00       990\n",
      "          18       1.00      1.00      1.00      1080\n",
      "          19       1.00      1.00      1.00       180\n",
      "          20       1.00      1.00      1.00       300\n",
      "          21       1.00      1.00      1.00       270\n",
      "          22       1.00      1.00      1.00       330\n",
      "          23       1.00      1.00      1.00       450\n",
      "          24       1.00      1.00      1.00       240\n",
      "          25       1.00      1.00      1.00      1350\n",
      "          26       1.00      1.00      1.00       540\n",
      "          27       1.00      1.00      1.00       210\n",
      "          28       1.00      1.00      1.00       480\n",
      "          29       1.00      1.00      1.00       240\n",
      "          30       1.00      1.00      1.00       390\n",
      "          31       1.00      1.00      1.00       690\n",
      "          32       1.00      1.00      1.00       210\n",
      "          33       1.00      1.00      1.00       599\n",
      "          34       1.00      1.00      1.00       360\n",
      "          35       1.00      1.00      1.00      1080\n",
      "          36       1.00      1.00      1.00       330\n",
      "          37       1.00      1.00      1.00       180\n",
      "          38       1.00      1.00      1.00      1860\n",
      "          39       1.00      1.00      1.00       270\n",
      "          40       1.00      1.00      1.00       300\n",
      "          41       1.00      1.00      1.00       210\n",
      "          42       1.00      1.00      1.00       210\n",
      "\n",
      "    accuracy                           1.00     34799\n",
      "   macro avg       1.00      1.00      1.00     34799\n",
      "weighted avg       1.00      1.00      1.00     34799\n",
      "\n"
     ]
    }
   ],
   "source": [
    "from sklearn.metrics import classification_report\n",
    "print(classification_report(Y_train, Y_pred_train))"
   ]
  },
  {
   "cell_type": "code",
   "execution_count": 33,
   "metadata": {
    "colab": {
     "base_uri": "https://localhost:8080/"
    },
    "id": "kYMk51Duz_E5",
    "outputId": "97e22b67-5462-45ee-953d-9330226e2e59"
   },
   "outputs": [
    {
     "name": "stdout",
     "output_type": "stream",
     "text": [
      "1.0\n"
     ]
    }
   ],
   "source": [
    "from sklearn.metrics import accuracy_score\n",
    "print(accuracy_score(Y_pred_train, Y_train)) "
   ]
  },
  {
   "cell_type": "markdown",
   "metadata": {
    "id": "lIAbZXYzz_E6"
   },
   "source": [
    "# Predicting Test Set results"
   ]
  },
  {
   "cell_type": "code",
   "execution_count": 34,
   "metadata": {
    "id": "IPRQaVMPz_E7"
   },
   "outputs": [],
   "source": [
    "Y_pred_test = model.predict(X_test)"
   ]
  },
  {
   "cell_type": "code",
   "execution_count": 35,
   "metadata": {
    "colab": {
     "base_uri": "https://localhost:8080/"
    },
    "id": "Y79io3PQz_E7",
    "outputId": "16e64616-4644-4fc1-d44a-9023b5b89162"
   },
   "outputs": [
    {
     "name": "stdout",
     "output_type": "stream",
     "text": [
      "              precision    recall  f1-score   support\n",
      "\n",
      "           0       1.00      0.62      0.76        60\n",
      "           1       0.84      0.95      0.89       720\n",
      "           2       0.86      0.95      0.90       750\n",
      "           3       0.90      0.92      0.91       450\n",
      "           4       0.96      0.95      0.95       660\n",
      "           5       0.80      0.78      0.79       630\n",
      "           6       0.89      0.73      0.80       150\n",
      "           7       0.94      0.93      0.93       450\n",
      "           8       0.88      0.92      0.90       450\n",
      "           9       0.92      0.99      0.95       480\n",
      "          10       0.92      0.98      0.95       660\n",
      "          11       0.83      0.90      0.86       420\n",
      "          12       0.94      0.96      0.95       690\n",
      "          13       0.97      1.00      0.98       720\n",
      "          14       0.99      0.96      0.98       270\n",
      "          15       0.92      0.92      0.92       210\n",
      "          16       1.00      0.95      0.97       150\n",
      "          17       0.99      0.99      0.99       360\n",
      "          18       0.91      0.86      0.89       390\n",
      "          19       0.97      0.52      0.67        60\n",
      "          20       0.64      0.62      0.63        90\n",
      "          21       0.97      0.42      0.59        90\n",
      "          22       0.94      0.98      0.96       120\n",
      "          23       0.80      0.75      0.78       150\n",
      "          24       1.00      0.56      0.71        90\n",
      "          25       0.90      0.95      0.92       480\n",
      "          26       0.88      0.79      0.84       180\n",
      "          27       1.00      0.50      0.67        60\n",
      "          28       0.91      0.81      0.86       150\n",
      "          29       0.99      0.86      0.92        90\n",
      "          30       0.67      0.56      0.61       150\n",
      "          31       0.79      0.95      0.86       270\n",
      "          32       0.89      0.80      0.84        60\n",
      "          33       0.96      0.98      0.97       210\n",
      "          34       0.99      0.98      0.99       120\n",
      "          35       0.99      0.95      0.97       390\n",
      "          36       0.97      0.93      0.95       120\n",
      "          37       0.98      0.93      0.96        60\n",
      "          38       0.96      0.97      0.96       690\n",
      "          39       0.94      0.83      0.88        90\n",
      "          40       1.00      0.62      0.77        90\n",
      "          41       0.52      0.55      0.54        60\n",
      "          42       0.98      0.56      0.71        90\n",
      "\n",
      "    accuracy                           0.91     12630\n",
      "   macro avg       0.91      0.83      0.86     12630\n",
      "weighted avg       0.91      0.91      0.90     12630\n",
      "\n"
     ]
    }
   ],
   "source": [
    "print(classification_report(Y_test, Y_pred_test))"
   ]
  },
  {
   "cell_type": "code",
   "execution_count": 36,
   "metadata": {
    "colab": {
     "base_uri": "https://localhost:8080/"
    },
    "id": "jr4G8fcJ565i",
    "outputId": "4a4de01b-8ad7-4738-cbb3-8b5f508ee869"
   },
   "outputs": [
    {
     "name": "stdout",
     "output_type": "stream",
     "text": [
      "0.9057007125890736\n"
     ]
    }
   ],
   "source": [
    "print(accuracy_score(Y_test, Y_pred_test))"
   ]
  },
  {
   "cell_type": "markdown",
   "metadata": {
    "id": "HBuT0I_xz_E8"
   },
   "source": [
    "# Predicting Validation Set Results"
   ]
  },
  {
   "cell_type": "code",
   "execution_count": 37,
   "metadata": {
    "id": "IVfrX7xrz_E9"
   },
   "outputs": [],
   "source": [
    "Y_pred_valid = model.predict(X_validation)"
   ]
  },
  {
   "cell_type": "code",
   "execution_count": 38,
   "metadata": {
    "colab": {
     "base_uri": "https://localhost:8080/"
    },
    "id": "oyPZTEYCz_E-",
    "outputId": "b361e299-8605-48e3-8f73-f09f71192520"
   },
   "outputs": [
    {
     "name": "stdout",
     "output_type": "stream",
     "text": [
      "              precision    recall  f1-score   support\n",
      "\n",
      "           0       1.00      0.53      0.70        30\n",
      "           1       0.84      0.88      0.86       240\n",
      "           2       0.95      0.88      0.91       240\n",
      "           3       0.86      0.97      0.91       150\n",
      "           4       0.93      0.97      0.95       210\n",
      "           5       0.82      0.80      0.81       210\n",
      "           6       0.75      1.00      0.86        60\n",
      "           7       0.91      0.96      0.94       150\n",
      "           8       0.92      0.90      0.91       150\n",
      "           9       0.97      0.93      0.95       150\n",
      "          10       0.91      1.00      0.95       210\n",
      "          11       0.77      0.93      0.84       150\n",
      "          12       0.82      0.98      0.89       210\n",
      "          13       0.98      1.00      0.99       240\n",
      "          14       1.00      0.99      0.99        90\n",
      "          15       0.96      0.98      0.97        90\n",
      "          16       0.98      0.98      0.98        60\n",
      "          17       0.99      1.00      1.00       120\n",
      "          18       0.78      0.99      0.88       120\n",
      "          19       0.86      0.63      0.73        30\n",
      "          20       0.82      0.47      0.60        60\n",
      "          21       1.00      0.42      0.59        60\n",
      "          22       1.00      0.85      0.92        60\n",
      "          23       0.91      0.82      0.86        60\n",
      "          24       0.00      0.00      0.00        30\n",
      "          25       0.91      0.98      0.95       150\n",
      "          26       0.95      0.97      0.96        60\n",
      "          27       0.81      0.43      0.57        30\n",
      "          28       0.92      1.00      0.96        60\n",
      "          29       0.96      0.83      0.89        30\n",
      "          30       0.75      0.83      0.79        60\n",
      "          31       0.76      1.00      0.86        90\n",
      "          32       0.43      0.33      0.38        30\n",
      "          33       0.99      0.97      0.98        90\n",
      "          34       1.00      1.00      1.00        60\n",
      "          35       0.98      0.98      0.98       120\n",
      "          36       1.00      1.00      1.00        60\n",
      "          37       1.00      1.00      1.00        30\n",
      "          38       0.98      0.96      0.97       210\n",
      "          39       1.00      1.00      1.00        30\n",
      "          40       1.00      0.35      0.52        60\n",
      "          41       1.00      0.50      0.67        30\n",
      "          42       1.00      0.63      0.78        30\n",
      "\n",
      "    accuracy                           0.90      4410\n",
      "   macro avg       0.89      0.83      0.84      4410\n",
      "weighted avg       0.90      0.90      0.89      4410\n",
      "\n"
     ]
    }
   ],
   "source": [
    "print(classification_report(Y_validation, Y_pred_valid))"
   ]
  },
  {
   "cell_type": "code",
   "execution_count": 39,
   "metadata": {
    "colab": {
     "base_uri": "https://localhost:8080/"
    },
    "id": "0mz7S4Fuz_E-",
    "outputId": "721c2242-12a5-483e-cad3-bfd3cab3ef85"
   },
   "outputs": [
    {
     "name": "stdout",
     "output_type": "stream",
     "text": [
      "0.9004535147392291\n"
     ]
    }
   ],
   "source": [
    "print(accuracy_score(Y_validation, Y_pred_valid)) "
   ]
  },
  {
   "cell_type": "markdown",
   "metadata": {},
   "source": [
    "# SVM"
   ]
  },
  {
   "cell_type": "code",
   "execution_count": 40,
   "metadata": {},
   "outputs": [
    {
     "data": {
      "text/plain": [
       "SVC()"
      ]
     },
     "execution_count": 40,
     "metadata": {},
     "output_type": "execute_result"
    }
   ],
   "source": [
    "#SVM\n",
    "from sklearn import svm\n",
    "model_1 = svm.SVC()\n",
    "model_1.fit(X_train, Y_train)"
   ]
  },
  {
   "cell_type": "markdown",
   "metadata": {
    "id": "VStcfRhz69Lv"
   },
   "source": [
    "# Predicting Training Set Results "
   ]
  },
  {
   "cell_type": "code",
   "execution_count": 41,
   "metadata": {},
   "outputs": [],
   "source": [
    "Y_pred_train = model_1.predict(X_train)"
   ]
  },
  {
   "cell_type": "code",
   "execution_count": 42,
   "metadata": {},
   "outputs": [
    {
     "name": "stdout",
     "output_type": "stream",
     "text": [
      "              precision    recall  f1-score   support\n",
      "\n",
      "           0       1.00      0.93      0.97       180\n",
      "           1       0.99      0.94      0.97      1980\n",
      "           2       0.98      0.96      0.97      2010\n",
      "           3       0.96      0.92      0.94      1260\n",
      "           4       0.94      0.98      0.96      1770\n",
      "           5       0.82      0.97      0.89      1650\n",
      "           6       0.98      0.98      0.98       360\n",
      "           7       0.99      0.91      0.95      1290\n",
      "           8       0.95      0.94      0.95      1260\n",
      "           9       1.00      0.94      0.97      1320\n",
      "          10       0.88      0.99      0.93      1800\n",
      "          11       0.98      0.97      0.97      1170\n",
      "          12       0.94      0.98      0.96      1890\n",
      "          13       0.99      1.00      0.99      1920\n",
      "          14       0.99      1.00      0.99       690\n",
      "          15       1.00      0.97      0.98       540\n",
      "          16       1.00      0.96      0.98       360\n",
      "          17       0.98      0.99      0.99       990\n",
      "          18       0.92      0.97      0.94      1080\n",
      "          19       0.99      0.79      0.88       180\n",
      "          20       0.80      0.87      0.83       300\n",
      "          21       1.00      0.96      0.98       270\n",
      "          22       0.99      1.00      1.00       330\n",
      "          23       0.99      0.90      0.94       450\n",
      "          24       1.00      0.94      0.97       240\n",
      "          25       0.99      0.99      0.99      1350\n",
      "          26       0.96      0.87      0.91       540\n",
      "          27       1.00      0.94      0.97       210\n",
      "          28       1.00      0.87      0.93       480\n",
      "          29       0.99      0.97      0.98       240\n",
      "          30       0.98      0.89      0.93       390\n",
      "          31       0.97      0.95      0.96       690\n",
      "          32       1.00      0.92      0.96       210\n",
      "          33       0.99      0.94      0.97       599\n",
      "          34       1.00      0.96      0.98       360\n",
      "          35       1.00      0.97      0.98      1080\n",
      "          36       0.98      0.99      0.98       330\n",
      "          37       0.99      0.98      0.99       180\n",
      "          38       0.97      1.00      0.98      1860\n",
      "          39       1.00      0.96      0.98       270\n",
      "          40       1.00      0.86      0.92       300\n",
      "          41       1.00      0.94      0.97       210\n",
      "          42       1.00      0.97      0.98       210\n",
      "\n",
      "    accuracy                           0.96     34799\n",
      "   macro avg       0.97      0.95      0.96     34799\n",
      "weighted avg       0.96      0.96      0.96     34799\n",
      "\n"
     ]
    }
   ],
   "source": [
    "from sklearn.metrics import classification_report\n",
    "print(classification_report(Y_train, Y_pred_train))"
   ]
  },
  {
   "cell_type": "code",
   "execution_count": 43,
   "metadata": {},
   "outputs": [
    {
     "name": "stdout",
     "output_type": "stream",
     "text": [
      "0.9596252765884077\n"
     ]
    }
   ],
   "source": [
    "print(accuracy_score(Y_pred_train, Y_train)) "
   ]
  },
  {
   "cell_type": "markdown",
   "metadata": {},
   "source": [
    "# Predicting Test Set Results"
   ]
  },
  {
   "cell_type": "code",
   "execution_count": 44,
   "metadata": {},
   "outputs": [],
   "source": [
    "Y_pred_test = model_1.predict(X_test)"
   ]
  },
  {
   "cell_type": "code",
   "execution_count": 45,
   "metadata": {},
   "outputs": [
    {
     "name": "stdout",
     "output_type": "stream",
     "text": [
      "              precision    recall  f1-score   support\n",
      "\n",
      "           0       1.00      0.40      0.57        60\n",
      "           1       0.72      0.89      0.80       720\n",
      "           2       0.79      0.87      0.83       750\n",
      "           3       0.64      0.76      0.70       450\n",
      "           4       0.85      0.80      0.82       660\n",
      "           5       0.61      0.76      0.68       630\n",
      "           6       0.82      0.64      0.72       150\n",
      "           7       0.92      0.67      0.78       450\n",
      "           8       0.83      0.82      0.82       450\n",
      "           9       0.93      0.78      0.85       480\n",
      "          10       0.73      0.94      0.82       660\n",
      "          11       0.71      0.82      0.76       420\n",
      "          12       0.67      0.96      0.79       690\n",
      "          13       0.87      0.96      0.91       720\n",
      "          14       0.93      0.87      0.90       270\n",
      "          15       0.92      0.59      0.72       210\n",
      "          16       0.95      0.94      0.95       150\n",
      "          17       0.98      0.93      0.95       360\n",
      "          18       0.80      0.65      0.72       390\n",
      "          19       0.97      0.50      0.66        60\n",
      "          20       0.34      0.31      0.32        90\n",
      "          21       0.96      0.58      0.72        90\n",
      "          22       0.99      0.73      0.84       120\n",
      "          23       0.56      0.33      0.41       150\n",
      "          24       0.93      0.28      0.43        90\n",
      "          25       0.89      0.82      0.85       480\n",
      "          26       0.76      0.84      0.80       180\n",
      "          27       0.82      0.45      0.58        60\n",
      "          28       0.82      0.55      0.66       150\n",
      "          29       0.86      0.73      0.79        90\n",
      "          30       0.56      0.26      0.35       150\n",
      "          31       0.74      0.81      0.77       270\n",
      "          32       0.91      0.72      0.80        60\n",
      "          33       0.88      0.89      0.89       210\n",
      "          34       0.97      0.93      0.95       120\n",
      "          35       0.87      0.65      0.75       390\n",
      "          36       0.93      0.72      0.81       120\n",
      "          37       0.98      0.75      0.85        60\n",
      "          38       0.86      0.93      0.89       690\n",
      "          39       0.92      0.53      0.68        90\n",
      "          40       1.00      0.36      0.52        90\n",
      "          41       0.95      0.62      0.75        60\n",
      "          42       0.89      0.81      0.85        90\n",
      "\n",
      "    accuracy                           0.79     12630\n",
      "   macro avg       0.84      0.70      0.74     12630\n",
      "weighted avg       0.81      0.79      0.79     12630\n",
      "\n"
     ]
    }
   ],
   "source": [
    "print(classification_report(Y_test, Y_pred_test))"
   ]
  },
  {
   "cell_type": "code",
   "execution_count": 46,
   "metadata": {},
   "outputs": [
    {
     "name": "stdout",
     "output_type": "stream",
     "text": [
      "0.7937450514647665\n"
     ]
    }
   ],
   "source": [
    "print(accuracy_score(Y_test, Y_pred_test))"
   ]
  },
  {
   "cell_type": "markdown",
   "metadata": {},
   "source": [
    "# Predicting Validation Set Results"
   ]
  },
  {
   "cell_type": "code",
   "execution_count": 47,
   "metadata": {},
   "outputs": [],
   "source": [
    "Y_pred_valid = model_1.predict(X_validation)"
   ]
  },
  {
   "cell_type": "code",
   "execution_count": 48,
   "metadata": {},
   "outputs": [
    {
     "name": "stdout",
     "output_type": "stream",
     "text": [
      "              precision    recall  f1-score   support\n",
      "\n",
      "           0       1.00      0.03      0.06        30\n",
      "           1       0.70      0.76      0.73       240\n",
      "           2       0.72      0.76      0.74       240\n",
      "           3       0.69      0.91      0.78       150\n",
      "           4       0.65      0.95      0.77       210\n",
      "           5       0.62      0.70      0.66       210\n",
      "           6       0.60      0.98      0.74        60\n",
      "           7       0.98      0.69      0.81       150\n",
      "           8       0.80      0.72      0.76       150\n",
      "           9       0.90      0.80      0.85       150\n",
      "          10       0.81      0.94      0.87       210\n",
      "          11       0.56      0.90      0.69       150\n",
      "          12       0.65      0.99      0.78       210\n",
      "          13       0.78      0.99      0.87       240\n",
      "          14       0.98      0.93      0.95        90\n",
      "          15       0.94      0.68      0.79        90\n",
      "          16       1.00      0.18      0.31        60\n",
      "          17       1.00      0.90      0.95       120\n",
      "          18       0.78      0.88      0.82       120\n",
      "          19       0.54      0.70      0.61        30\n",
      "          20       0.85      0.28      0.42        60\n",
      "          21       0.60      0.10      0.17        60\n",
      "          22       0.96      0.37      0.53        60\n",
      "          23       0.61      0.47      0.53        60\n",
      "          24       0.00      0.00      0.00        30\n",
      "          25       0.87      0.77      0.82       150\n",
      "          26       0.73      0.93      0.82        60\n",
      "          27       0.00      0.00      0.00        30\n",
      "          28       0.73      0.88      0.80        60\n",
      "          29       0.71      0.17      0.27        30\n",
      "          30       0.76      0.75      0.76        60\n",
      "          31       0.83      0.90      0.86        90\n",
      "          32       0.12      0.07      0.09        30\n",
      "          33       0.98      0.56      0.71        90\n",
      "          34       0.89      0.53      0.67        60\n",
      "          35       0.71      0.72      0.71       120\n",
      "          36       0.97      0.58      0.73        60\n",
      "          37       1.00      0.50      0.67        30\n",
      "          38       0.89      0.98      0.93       210\n",
      "          39       0.95      0.70      0.81        30\n",
      "          40       0.97      0.47      0.63        60\n",
      "          41       1.00      0.37      0.54        30\n",
      "          42       0.67      0.07      0.12        30\n",
      "\n",
      "    accuracy                           0.75      4410\n",
      "   macro avg       0.76      0.62      0.63      4410\n",
      "weighted avg       0.77      0.75      0.73      4410\n",
      "\n"
     ]
    }
   ],
   "source": [
    "print(classification_report(Y_validation, Y_pred_valid))"
   ]
  },
  {
   "cell_type": "code",
   "execution_count": 49,
   "metadata": {},
   "outputs": [
    {
     "name": "stdout",
     "output_type": "stream",
     "text": [
      "0.753968253968254\n"
     ]
    }
   ],
   "source": [
    "print(accuracy_score(Y_validation, Y_pred_valid)) "
   ]
  },
  {
   "cell_type": "markdown",
   "metadata": {},
   "source": [
    "# Naive Bayes"
   ]
  },
  {
   "cell_type": "code",
   "execution_count": 50,
   "metadata": {},
   "outputs": [
    {
     "data": {
      "text/plain": [
       "GaussianNB()"
      ]
     },
     "execution_count": 50,
     "metadata": {},
     "output_type": "execute_result"
    }
   ],
   "source": [
    "#Naive Bayes\n",
    "from sklearn.naive_bayes import GaussianNB\n",
    "model_2 = GaussianNB()\n",
    "model_2.fit(X_train, Y_train)"
   ]
  },
  {
   "cell_type": "markdown",
   "metadata": {},
   "source": [
    "# Predicting Training Set Results "
   ]
  },
  {
   "cell_type": "code",
   "execution_count": 51,
   "metadata": {},
   "outputs": [],
   "source": [
    "Y_pred_train = model_2.predict(X_train)"
   ]
  },
  {
   "cell_type": "code",
   "execution_count": 52,
   "metadata": {},
   "outputs": [
    {
     "name": "stdout",
     "output_type": "stream",
     "text": [
      "              precision    recall  f1-score   support\n",
      "\n",
      "           0       0.17      0.69      0.27       180\n",
      "           1       0.64      0.35      0.45      1980\n",
      "           2       0.68      0.38      0.48      2010\n",
      "           3       0.21      0.18      0.19      1260\n",
      "           4       0.39      0.25      0.30      1770\n",
      "           5       0.28      0.20      0.23      1650\n",
      "           6       0.18      0.84      0.30       360\n",
      "           7       0.53      0.17      0.26      1290\n",
      "           8       0.28      0.22      0.25      1260\n",
      "           9       0.78      0.59      0.67      1320\n",
      "          10       0.29      0.42      0.34      1800\n",
      "          11       0.58      0.48      0.52      1170\n",
      "          12       0.80      0.51      0.62      1890\n",
      "          13       0.92      0.62      0.74      1920\n",
      "          14       0.96      0.85      0.90       690\n",
      "          15       0.73      0.50      0.59       540\n",
      "          16       0.68      0.70      0.69       360\n",
      "          17       0.97      0.78      0.86       990\n",
      "          18       0.92      0.28      0.43      1080\n",
      "          19       0.43      0.29      0.35       180\n",
      "          20       0.04      0.84      0.07       300\n",
      "          21       0.34      0.44      0.38       270\n",
      "          22       0.85      0.51      0.64       330\n",
      "          23       0.54      0.34      0.41       450\n",
      "          24       0.83      0.46      0.59       240\n",
      "          25       0.81      0.43      0.56      1350\n",
      "          26       0.41      0.16      0.23       540\n",
      "          27       0.43      0.52      0.47       210\n",
      "          28       0.64      0.43      0.52       480\n",
      "          29       0.26      0.33      0.29       240\n",
      "          30       0.38      0.52      0.44       390\n",
      "          31       0.22      0.41      0.28       690\n",
      "          32       0.86      0.60      0.70       210\n",
      "          33       0.63      0.55      0.59       599\n",
      "          34       0.65      0.72      0.68       360\n",
      "          35       0.71      0.63      0.67      1080\n",
      "          36       0.77      0.74      0.75       330\n",
      "          37       0.90      0.78      0.84       180\n",
      "          38       0.92      0.48      0.63      1860\n",
      "          39       0.99      0.74      0.85       270\n",
      "          40       0.61      0.58      0.60       300\n",
      "          41       0.64      0.71      0.67       210\n",
      "          42       0.25      0.09      0.13       210\n",
      "\n",
      "    accuracy                           0.44     34799\n",
      "   macro avg       0.58      0.49      0.50     34799\n",
      "weighted avg       0.61      0.44      0.49     34799\n",
      "\n"
     ]
    }
   ],
   "source": [
    "from sklearn.metrics import classification_report\n",
    "print(classification_report(Y_train, Y_pred_train))"
   ]
  },
  {
   "cell_type": "code",
   "execution_count": 53,
   "metadata": {},
   "outputs": [
    {
     "name": "stdout",
     "output_type": "stream",
     "text": [
      "0.4421104054714216\n"
     ]
    }
   ],
   "source": [
    "from sklearn.metrics import accuracy_score\n",
    "print(accuracy_score(Y_pred_train, Y_train)) "
   ]
  },
  {
   "cell_type": "markdown",
   "metadata": {},
   "source": [
    "# Predicting Test Set Results"
   ]
  },
  {
   "cell_type": "code",
   "execution_count": 54,
   "metadata": {},
   "outputs": [],
   "source": [
    "Y_pred_test = model_2.predict(X_test)"
   ]
  },
  {
   "cell_type": "code",
   "execution_count": 55,
   "metadata": {},
   "outputs": [
    {
     "name": "stdout",
     "output_type": "stream",
     "text": [
      "              precision    recall  f1-score   support\n",
      "\n",
      "           0       0.07      0.38      0.11        60\n",
      "           1       0.62      0.32      0.42       720\n",
      "           2       0.47      0.28      0.35       750\n",
      "           3       0.19      0.17      0.18       450\n",
      "           4       0.20      0.11      0.14       660\n",
      "           5       0.13      0.08      0.10       630\n",
      "           6       0.16      0.58      0.25       150\n",
      "           7       0.49      0.17      0.26       450\n",
      "           8       0.43      0.40      0.42       450\n",
      "           9       0.50      0.43      0.46       480\n",
      "          10       0.25      0.35      0.29       660\n",
      "          11       0.34      0.54      0.42       420\n",
      "          12       0.75      0.52      0.61       690\n",
      "          13       0.93      0.68      0.79       720\n",
      "          14       0.92      0.76      0.83       270\n",
      "          15       0.78      0.49      0.60       210\n",
      "          16       0.56      0.62      0.59       150\n",
      "          17       0.98      0.78      0.87       360\n",
      "          18       0.83      0.10      0.18       390\n",
      "          19       0.24      0.13      0.17        60\n",
      "          20       0.01      0.21      0.02        90\n",
      "          21       0.46      0.49      0.48        90\n",
      "          22       0.40      0.14      0.21       120\n",
      "          23       0.08      0.09      0.09       150\n",
      "          24       0.23      0.03      0.06        90\n",
      "          25       0.77      0.46      0.57       480\n",
      "          26       0.43      0.12      0.19       180\n",
      "          27       0.10      0.13      0.11        60\n",
      "          28       0.46      0.21      0.29       150\n",
      "          29       0.01      0.01      0.01        90\n",
      "          30       0.24      0.21      0.22       150\n",
      "          31       0.18      0.31      0.23       270\n",
      "          32       0.95      0.30      0.46        60\n",
      "          33       0.61      0.49      0.54       210\n",
      "          34       0.79      0.93      0.85       120\n",
      "          35       0.39      0.24      0.30       390\n",
      "          36       0.87      0.68      0.76       120\n",
      "          37       0.86      0.52      0.65        60\n",
      "          38       0.89      0.58      0.70       690\n",
      "          39       0.98      0.60      0.74        90\n",
      "          40       0.41      0.51      0.45        90\n",
      "          41       0.26      0.62      0.37        60\n",
      "          42       0.38      0.09      0.14        90\n",
      "\n",
      "    accuracy                           0.37     12630\n",
      "   macro avg       0.48      0.37      0.38     12630\n",
      "weighted avg       0.52      0.37      0.41     12630\n",
      "\n"
     ]
    }
   ],
   "source": [
    "print(classification_report(Y_test, Y_pred_test))"
   ]
  },
  {
   "cell_type": "code",
   "execution_count": 56,
   "metadata": {},
   "outputs": [
    {
     "name": "stdout",
     "output_type": "stream",
     "text": [
      "0.3737133808392716\n"
     ]
    }
   ],
   "source": [
    "print(accuracy_score(Y_test, Y_pred_test))"
   ]
  },
  {
   "cell_type": "markdown",
   "metadata": {},
   "source": [
    "# Predicting Validation Set Results"
   ]
  },
  {
   "cell_type": "code",
   "execution_count": 57,
   "metadata": {},
   "outputs": [],
   "source": [
    "Y_pred_valid = model_2.predict(X_validation)"
   ]
  },
  {
   "cell_type": "code",
   "execution_count": 58,
   "metadata": {},
   "outputs": [
    {
     "name": "stdout",
     "output_type": "stream",
     "text": [
      "              precision    recall  f1-score   support\n",
      "\n",
      "           0       0.10      0.47      0.16        30\n",
      "           1       0.60      0.32      0.42       240\n",
      "           2       0.49      0.40      0.44       240\n",
      "           3       0.50      0.22      0.31       150\n",
      "           4       0.36      0.13      0.19       210\n",
      "           5       0.21      0.10      0.14       210\n",
      "           6       0.18      0.90      0.31        60\n",
      "           7       0.47      0.12      0.19       150\n",
      "           8       0.05      0.02      0.03       150\n",
      "           9       0.33      0.17      0.23       150\n",
      "          10       0.27      0.45      0.34       210\n",
      "          11       0.24      0.27      0.25       150\n",
      "          12       0.77      0.93      0.84       210\n",
      "          13       0.80      0.41      0.54       240\n",
      "          14       0.94      0.80      0.86        90\n",
      "          15       0.89      0.53      0.67        90\n",
      "          16       0.81      0.92      0.86        60\n",
      "          17       1.00      0.97      0.99       120\n",
      "          18       0.73      0.18      0.29       120\n",
      "          19       0.06      0.03      0.04        30\n",
      "          20       0.02      0.33      0.04        60\n",
      "          21       0.14      0.02      0.03        60\n",
      "          22       0.61      0.33      0.43        60\n",
      "          23       0.22      0.25      0.24        60\n",
      "          24       0.00      0.00      0.00        30\n",
      "          25       0.59      0.29      0.39       150\n",
      "          26       0.39      0.30      0.34        60\n",
      "          27       0.00      0.00      0.00        30\n",
      "          28       0.76      0.68      0.72        60\n",
      "          29       0.02      0.03      0.03        30\n",
      "          30       0.02      0.03      0.03        60\n",
      "          31       0.23      0.22      0.23        90\n",
      "          32       0.00      0.00      0.00        30\n",
      "          33       0.59      0.29      0.39        90\n",
      "          34       0.54      0.22      0.31        60\n",
      "          35       0.35      0.46      0.40       120\n",
      "          36       0.80      0.20      0.32        60\n",
      "          37       0.96      0.83      0.89        30\n",
      "          38       0.82      0.46      0.59       210\n",
      "          39       0.84      0.70      0.76        30\n",
      "          40       0.36      0.23      0.28        60\n",
      "          41       0.00      0.00      0.00        30\n",
      "          42       0.00      0.00      0.00        30\n",
      "\n",
      "    accuracy                           0.35      4410\n",
      "   macro avg       0.42      0.33      0.34      4410\n",
      "weighted avg       0.48      0.35      0.38      4410\n",
      "\n"
     ]
    }
   ],
   "source": [
    "print(classification_report(Y_validation, Y_pred_valid))"
   ]
  },
  {
   "cell_type": "code",
   "execution_count": 59,
   "metadata": {},
   "outputs": [
    {
     "name": "stdout",
     "output_type": "stream",
     "text": [
      "0.35374149659863946\n"
     ]
    }
   ],
   "source": [
    "print(accuracy_score(Y_validation, Y_pred_valid)) "
   ]
  },
  {
   "cell_type": "markdown",
   "metadata": {},
   "source": [
    "# KNN"
   ]
  },
  {
   "cell_type": "code",
   "execution_count": 60,
   "metadata": {},
   "outputs": [
    {
     "data": {
      "text/plain": [
       "KNeighborsClassifier()"
      ]
     },
     "execution_count": 60,
     "metadata": {},
     "output_type": "execute_result"
    }
   ],
   "source": [
    "#KNN\n",
    "from sklearn.neighbors import KNeighborsClassifier\n",
    "model_3 = KNeighborsClassifier()\n",
    "model_3.fit(X_train, Y_train)"
   ]
  },
  {
   "cell_type": "markdown",
   "metadata": {},
   "source": [
    "# Predicting Training Set Results "
   ]
  },
  {
   "cell_type": "code",
   "execution_count": 61,
   "metadata": {},
   "outputs": [],
   "source": [
    "Y_pred_train = model_3.predict(X_train)"
   ]
  },
  {
   "cell_type": "code",
   "execution_count": 62,
   "metadata": {},
   "outputs": [
    {
     "name": "stdout",
     "output_type": "stream",
     "text": [
      "              precision    recall  f1-score   support\n",
      "\n",
      "           0       0.93      0.88      0.91       180\n",
      "           1       0.95      0.92      0.93      1980\n",
      "           2       0.97      0.90      0.93      2010\n",
      "           3       0.84      0.87      0.85      1260\n",
      "           4       0.89      0.92      0.90      1770\n",
      "           5       0.74      0.92      0.82      1650\n",
      "           6       0.92      0.98      0.95       360\n",
      "           7       0.85      0.94      0.89      1290\n",
      "           8       0.85      0.93      0.89      1260\n",
      "           9       0.98      0.96      0.97      1320\n",
      "          10       0.93      0.95      0.94      1800\n",
      "          11       0.97      0.93      0.95      1170\n",
      "          12       0.99      0.93      0.96      1890\n",
      "          13       0.98      0.99      0.98      1920\n",
      "          14       0.99      0.93      0.96       690\n",
      "          15       0.98      0.90      0.94       540\n",
      "          16       0.99      0.99      0.99       360\n",
      "          17       0.99      0.99      0.99       990\n",
      "          18       0.92      0.96      0.94      1080\n",
      "          19       0.94      0.94      0.94       180\n",
      "          20       0.87      0.95      0.90       300\n",
      "          21       0.96      0.92      0.94       270\n",
      "          22       1.00      0.97      0.99       330\n",
      "          23       0.97      0.94      0.95       450\n",
      "          24       0.96      0.89      0.92       240\n",
      "          25       0.97      0.95      0.96      1350\n",
      "          26       0.92      0.93      0.93       540\n",
      "          27       0.98      0.82      0.89       210\n",
      "          28       0.99      0.94      0.96       480\n",
      "          29       0.98      0.85      0.91       240\n",
      "          30       0.86      0.94      0.90       390\n",
      "          31       0.95      0.97      0.96       690\n",
      "          32       0.88      0.87      0.87       210\n",
      "          33       0.98      0.93      0.96       599\n",
      "          34       0.97      0.94      0.95       360\n",
      "          35       0.99      0.89      0.94      1080\n",
      "          36       0.99      0.91      0.95       330\n",
      "          37       1.00      0.90      0.95       180\n",
      "          38       0.97      0.93      0.95      1860\n",
      "          39       0.99      1.00      0.99       270\n",
      "          40       0.99      0.85      0.92       300\n",
      "          41       0.99      0.92      0.96       210\n",
      "          42       0.98      0.90      0.94       210\n",
      "\n",
      "    accuracy                           0.93     34799\n",
      "   macro avg       0.95      0.93      0.94     34799\n",
      "weighted avg       0.94      0.93      0.93     34799\n",
      "\n"
     ]
    }
   ],
   "source": [
    "print(classification_report(Y_train, Y_pred_train))"
   ]
  },
  {
   "cell_type": "code",
   "execution_count": 63,
   "metadata": {},
   "outputs": [
    {
     "name": "stdout",
     "output_type": "stream",
     "text": [
      "0.9319520675881491\n"
     ]
    }
   ],
   "source": [
    "print(accuracy_score(Y_pred_train, Y_train)) "
   ]
  },
  {
   "cell_type": "markdown",
   "metadata": {},
   "source": [
    "# Predicting Test Set Results"
   ]
  },
  {
   "cell_type": "code",
   "execution_count": 64,
   "metadata": {},
   "outputs": [],
   "source": [
    "Y_pred_test = model_3.predict(X_test)"
   ]
  },
  {
   "cell_type": "code",
   "execution_count": 65,
   "metadata": {},
   "outputs": [
    {
     "name": "stdout",
     "output_type": "stream",
     "text": [
      "              precision    recall  f1-score   support\n",
      "\n",
      "           0       0.32      0.38      0.35        60\n",
      "           1       0.58      0.43      0.49       720\n",
      "           2       0.61      0.48      0.54       750\n",
      "           3       0.31      0.36      0.34       450\n",
      "           4       0.51      0.59      0.55       660\n",
      "           5       0.28      0.57      0.38       630\n",
      "           6       0.56      0.59      0.58       150\n",
      "           7       0.34      0.52      0.41       450\n",
      "           8       0.43      0.48      0.46       450\n",
      "           9       0.71      0.59      0.64       480\n",
      "          10       0.63      0.78      0.70       660\n",
      "          11       0.63      0.54      0.58       420\n",
      "          12       0.98      0.78      0.87       690\n",
      "          13       0.94      0.94      0.94       720\n",
      "          14       0.96      0.64      0.76       270\n",
      "          15       0.81      0.52      0.64       210\n",
      "          16       0.73      0.99      0.84       150\n",
      "          17       0.98      0.99      0.98       360\n",
      "          18       0.50      0.47      0.48       390\n",
      "          19       0.45      0.53      0.49        60\n",
      "          20       0.36      0.60      0.45        90\n",
      "          21       0.89      0.46      0.60        90\n",
      "          22       0.90      0.86      0.88       120\n",
      "          23       0.47      0.34      0.39       150\n",
      "          24       0.07      0.03      0.04        90\n",
      "          25       0.83      0.74      0.78       480\n",
      "          26       0.58      0.64      0.61       180\n",
      "          27       0.44      0.23      0.30        60\n",
      "          28       0.53      0.45      0.49       150\n",
      "          29       0.67      0.39      0.49        90\n",
      "          30       0.30      0.40      0.35       150\n",
      "          31       0.57      0.87      0.69       270\n",
      "          32       0.21      0.50      0.29        60\n",
      "          33       0.91      0.75      0.82       210\n",
      "          34       0.87      0.64      0.74       120\n",
      "          35       0.86      0.31      0.46       390\n",
      "          36       1.00      0.40      0.57       120\n",
      "          37       0.94      0.28      0.44        60\n",
      "          38       0.87      0.76      0.81       690\n",
      "          39       0.98      0.67      0.79        90\n",
      "          40       0.88      0.31      0.46        90\n",
      "          41       0.88      0.47      0.61        60\n",
      "          42       0.68      0.70      0.69        90\n",
      "\n",
      "    accuracy                           0.61     12630\n",
      "   macro avg       0.65      0.56      0.58     12630\n",
      "weighted avg       0.66      0.61      0.62     12630\n",
      "\n"
     ]
    }
   ],
   "source": [
    "print(classification_report(Y_test, Y_pred_test))"
   ]
  },
  {
   "cell_type": "code",
   "execution_count": 66,
   "metadata": {},
   "outputs": [
    {
     "name": "stdout",
     "output_type": "stream",
     "text": [
      "0.6069675376088678\n"
     ]
    }
   ],
   "source": [
    "print(accuracy_score(Y_test, Y_pred_test))"
   ]
  },
  {
   "cell_type": "markdown",
   "metadata": {},
   "source": [
    "# Predicting Validation Set Results"
   ]
  },
  {
   "cell_type": "code",
   "execution_count": 67,
   "metadata": {},
   "outputs": [],
   "source": [
    "Y_pred_valid = model_3.predict(X_validation)"
   ]
  },
  {
   "cell_type": "code",
   "execution_count": 68,
   "metadata": {},
   "outputs": [
    {
     "name": "stdout",
     "output_type": "stream",
     "text": [
      "              precision    recall  f1-score   support\n",
      "\n",
      "           0       0.00      0.00      0.00        30\n",
      "           1       0.48      0.47      0.47       240\n",
      "           2       0.58      0.49      0.53       240\n",
      "           3       0.35      0.47      0.40       150\n",
      "           4       0.42      0.61      0.50       210\n",
      "           5       0.29      0.48      0.36       210\n",
      "           6       0.47      0.83      0.60        60\n",
      "           7       0.31      0.44      0.36       150\n",
      "           8       0.31      0.40      0.35       150\n",
      "           9       0.60      0.34      0.43       150\n",
      "          10       0.55      0.83      0.66       210\n",
      "          11       0.55      0.51      0.53       150\n",
      "          12       0.95      0.85      0.89       210\n",
      "          13       0.92      0.95      0.94       240\n",
      "          14       0.91      0.74      0.82        90\n",
      "          15       0.78      0.31      0.44        90\n",
      "          16       0.35      0.30      0.32        60\n",
      "          17       0.99      1.00      1.00       120\n",
      "          18       0.52      0.45      0.48       120\n",
      "          19       0.44      0.53      0.48        30\n",
      "          20       0.37      0.48      0.42        60\n",
      "          21       0.00      0.00      0.00        60\n",
      "          22       1.00      0.50      0.67        60\n",
      "          23       0.35      0.18      0.24        60\n",
      "          24       0.00      0.00      0.00        30\n",
      "          25       0.81      0.44      0.57       150\n",
      "          26       0.48      0.75      0.58        60\n",
      "          27       0.00      0.00      0.00        30\n",
      "          28       0.36      0.20      0.26        60\n",
      "          29       0.20      0.03      0.06        30\n",
      "          30       0.21      0.37      0.27        60\n",
      "          31       0.55      0.91      0.69        90\n",
      "          32       0.00      0.00      0.00        30\n",
      "          33       0.83      0.33      0.48        90\n",
      "          34       0.74      0.42      0.53        60\n",
      "          35       0.87      0.49      0.63       120\n",
      "          36       0.95      0.33      0.49        60\n",
      "          37       0.80      0.13      0.23        30\n",
      "          38       0.91      0.88      0.89       210\n",
      "          39       1.00      0.77      0.87        30\n",
      "          40       0.89      0.13      0.23        60\n",
      "          41       0.24      0.33      0.28        30\n",
      "          42       0.32      0.40      0.36        30\n",
      "\n",
      "    accuracy                           0.54      4410\n",
      "   macro avg       0.53      0.44      0.45      4410\n",
      "weighted avg       0.59      0.54      0.54      4410\n",
      "\n"
     ]
    }
   ],
   "source": [
    "print(classification_report(Y_validation, Y_pred_valid))"
   ]
  },
  {
   "cell_type": "code",
   "execution_count": 69,
   "metadata": {},
   "outputs": [
    {
     "name": "stdout",
     "output_type": "stream",
     "text": [
      "0.5417233560090703\n"
     ]
    }
   ],
   "source": [
    "print(accuracy_score(Y_validation, Y_pred_valid)) "
   ]
  },
  {
   "cell_type": "markdown",
   "metadata": {},
   "source": [
    "# Boosting"
   ]
  },
  {
   "cell_type": "code",
   "execution_count": 70,
   "metadata": {},
   "outputs": [
    {
     "name": "stdout",
     "output_type": "stream",
     "text": [
      "[16:54:27] WARNING: C:/Users/Administrator/workspace/xgboost-win64_release_1.3.0/src/learner.cc:1061: Starting in XGBoost 1.3.0, the default evaluation metric used with the objective 'multi:softprob' was changed from 'merror' to 'mlogloss'. Explicitly set eval_metric if you'd like to restore the old behavior.\n"
     ]
    },
    {
     "data": {
      "text/plain": [
       "XGBClassifier(base_score=0.5, booster='gbtree', colsample_bylevel=1,\n",
       "              colsample_bynode=1, colsample_bytree=1, gamma=0, gpu_id=-1,\n",
       "              importance_type='gain', interaction_constraints='',\n",
       "              learning_rate=0.300000012, max_delta_step=0, max_depth=6,\n",
       "              min_child_weight=1, missing=nan, monotone_constraints='()',\n",
       "              n_estimators=100, n_jobs=8, num_parallel_tree=1,\n",
       "              objective='multi:softprob', random_state=0, reg_alpha=0,\n",
       "              reg_lambda=1, scale_pos_weight=None, subsample=1,\n",
       "              tree_method='exact', validate_parameters=1, verbosity=None)"
      ]
     },
     "execution_count": 70,
     "metadata": {},
     "output_type": "execute_result"
    }
   ],
   "source": [
    "#Boosting\n",
    "from xgboost import XGBClassifier\n",
    "model_4 = XGBClassifier()\n",
    "model_4.fit(X_train,Y_train)"
   ]
  },
  {
   "cell_type": "markdown",
   "metadata": {},
   "source": [
    "# Predicting Training Set Results"
   ]
  },
  {
   "cell_type": "code",
   "execution_count": 71,
   "metadata": {},
   "outputs": [],
   "source": [
    "Y_pred_train = model_4.predict(X_train)"
   ]
  },
  {
   "cell_type": "code",
   "execution_count": 72,
   "metadata": {},
   "outputs": [
    {
     "name": "stdout",
     "output_type": "stream",
     "text": [
      "              precision    recall  f1-score   support\n",
      "\n",
      "           0       1.00      1.00      1.00       180\n",
      "           1       1.00      1.00      1.00      1980\n",
      "           2       1.00      1.00      1.00      2010\n",
      "           3       1.00      1.00      1.00      1260\n",
      "           4       1.00      1.00      1.00      1770\n",
      "           5       1.00      1.00      1.00      1650\n",
      "           6       1.00      1.00      1.00       360\n",
      "           7       1.00      1.00      1.00      1290\n",
      "           8       1.00      1.00      1.00      1260\n",
      "           9       1.00      1.00      1.00      1320\n",
      "          10       1.00      1.00      1.00      1800\n",
      "          11       1.00      1.00      1.00      1170\n",
      "          12       1.00      1.00      1.00      1890\n",
      "          13       1.00      1.00      1.00      1920\n",
      "          14       1.00      1.00      1.00       690\n",
      "          15       1.00      1.00      1.00       540\n",
      "          16       1.00      1.00      1.00       360\n",
      "          17       1.00      1.00      1.00       990\n",
      "          18       1.00      1.00      1.00      1080\n",
      "          19       1.00      1.00      1.00       180\n",
      "          20       1.00      1.00      1.00       300\n",
      "          21       1.00      1.00      1.00       270\n",
      "          22       1.00      1.00      1.00       330\n",
      "          23       1.00      1.00      1.00       450\n",
      "          24       1.00      1.00      1.00       240\n",
      "          25       1.00      1.00      1.00      1350\n",
      "          26       1.00      1.00      1.00       540\n",
      "          27       1.00      1.00      1.00       210\n",
      "          28       1.00      1.00      1.00       480\n",
      "          29       1.00      1.00      1.00       240\n",
      "          30       1.00      1.00      1.00       390\n",
      "          31       1.00      1.00      1.00       690\n",
      "          32       1.00      1.00      1.00       210\n",
      "          33       1.00      1.00      1.00       599\n",
      "          34       1.00      1.00      1.00       360\n",
      "          35       1.00      1.00      1.00      1080\n",
      "          36       1.00      1.00      1.00       330\n",
      "          37       1.00      1.00      1.00       180\n",
      "          38       1.00      1.00      1.00      1860\n",
      "          39       1.00      1.00      1.00       270\n",
      "          40       1.00      1.00      1.00       300\n",
      "          41       1.00      1.00      1.00       210\n",
      "          42       1.00      1.00      1.00       210\n",
      "\n",
      "    accuracy                           1.00     34799\n",
      "   macro avg       1.00      1.00      1.00     34799\n",
      "weighted avg       1.00      1.00      1.00     34799\n",
      "\n"
     ]
    }
   ],
   "source": [
    "print(classification_report(Y_train, Y_pred_train))"
   ]
  },
  {
   "cell_type": "code",
   "execution_count": 73,
   "metadata": {},
   "outputs": [
    {
     "name": "stdout",
     "output_type": "stream",
     "text": [
      "1.0\n"
     ]
    }
   ],
   "source": [
    "print(accuracy_score(Y_pred_train, Y_train)) "
   ]
  },
  {
   "cell_type": "markdown",
   "metadata": {},
   "source": [
    "# Predicting Test Results"
   ]
  },
  {
   "cell_type": "code",
   "execution_count": 74,
   "metadata": {},
   "outputs": [],
   "source": [
    "y_pred_test = model_4.predict(X_test)"
   ]
  },
  {
   "cell_type": "code",
   "execution_count": 75,
   "metadata": {},
   "outputs": [
    {
     "name": "stdout",
     "output_type": "stream",
     "text": [
      "              precision    recall  f1-score   support\n",
      "\n",
      "           0       0.89      0.68      0.77        60\n",
      "           1       0.84      0.94      0.89       720\n",
      "           2       0.88      0.97      0.92       750\n",
      "           3       0.91      0.94      0.93       450\n",
      "           4       0.96      0.95      0.96       660\n",
      "           5       0.79      0.83      0.81       630\n",
      "           6       0.92      0.65      0.76       150\n",
      "           7       0.90      0.89      0.90       450\n",
      "           8       0.83      0.90      0.87       450\n",
      "           9       0.93      0.99      0.96       480\n",
      "          10       0.95      0.95      0.95       660\n",
      "          11       0.84      0.90      0.86       420\n",
      "          12       0.90      0.92      0.91       690\n",
      "          13       0.96      0.99      0.97       720\n",
      "          14       0.94      0.91      0.93       270\n",
      "          15       0.87      0.84      0.85       210\n",
      "          16       0.98      0.95      0.97       150\n",
      "          17       0.98      0.93      0.95       360\n",
      "          18       0.90      0.78      0.84       390\n",
      "          19       0.58      0.70      0.63        60\n",
      "          20       0.57      0.70      0.63        90\n",
      "          21       0.95      0.40      0.56        90\n",
      "          22       0.90      0.88      0.89       120\n",
      "          23       0.84      0.73      0.78       150\n",
      "          24       0.82      0.60      0.69        90\n",
      "          25       0.92      0.92      0.92       480\n",
      "          26       0.83      0.78      0.81       180\n",
      "          27       0.77      0.50      0.61        60\n",
      "          28       0.76      0.89      0.82       150\n",
      "          29       0.91      0.74      0.82        90\n",
      "          30       0.69      0.56      0.62       150\n",
      "          31       0.78      0.94      0.85       270\n",
      "          32       0.89      0.80      0.84        60\n",
      "          33       0.86      0.87      0.87       210\n",
      "          34       0.98      0.98      0.98       120\n",
      "          35       0.95      0.92      0.94       390\n",
      "          36       0.96      0.91      0.94       120\n",
      "          37       0.96      0.87      0.91        60\n",
      "          38       0.97      0.93      0.95       690\n",
      "          39       0.84      0.66      0.74        90\n",
      "          40       0.87      0.68      0.76        90\n",
      "          41       0.71      0.58      0.64        60\n",
      "          42       0.98      0.67      0.79        90\n",
      "\n",
      "    accuracy                           0.89     12630\n",
      "   macro avg       0.87      0.82      0.84     12630\n",
      "weighted avg       0.89      0.89      0.89     12630\n",
      "\n"
     ]
    }
   ],
   "source": [
    "print(classification_report(Y_test, y_pred_test))"
   ]
  },
  {
   "cell_type": "code",
   "execution_count": 76,
   "metadata": {},
   "outputs": [
    {
     "name": "stdout",
     "output_type": "stream",
     "text": [
      "0.6069675376088678\n"
     ]
    }
   ],
   "source": [
    "print(accuracy_score(Y_test, Y_pred_test))"
   ]
  },
  {
   "cell_type": "markdown",
   "metadata": {},
   "source": [
    "# Predecting Validation Set Results"
   ]
  },
  {
   "cell_type": "code",
   "execution_count": 77,
   "metadata": {},
   "outputs": [],
   "source": [
    "Y_pred_valid = model.predict(X_validation)"
   ]
  },
  {
   "cell_type": "code",
   "execution_count": 78,
   "metadata": {},
   "outputs": [
    {
     "name": "stdout",
     "output_type": "stream",
     "text": [
      "              precision    recall  f1-score   support\n",
      "\n",
      "           0       1.00      0.53      0.70        30\n",
      "           1       0.84      0.88      0.86       240\n",
      "           2       0.95      0.88      0.91       240\n",
      "           3       0.86      0.97      0.91       150\n",
      "           4       0.93      0.97      0.95       210\n",
      "           5       0.82      0.80      0.81       210\n",
      "           6       0.75      1.00      0.86        60\n",
      "           7       0.91      0.96      0.94       150\n",
      "           8       0.92      0.90      0.91       150\n",
      "           9       0.97      0.93      0.95       150\n",
      "          10       0.91      1.00      0.95       210\n",
      "          11       0.77      0.93      0.84       150\n",
      "          12       0.82      0.98      0.89       210\n",
      "          13       0.98      1.00      0.99       240\n",
      "          14       1.00      0.99      0.99        90\n",
      "          15       0.96      0.98      0.97        90\n",
      "          16       0.98      0.98      0.98        60\n",
      "          17       0.99      1.00      1.00       120\n",
      "          18       0.78      0.99      0.88       120\n",
      "          19       0.86      0.63      0.73        30\n",
      "          20       0.82      0.47      0.60        60\n",
      "          21       1.00      0.42      0.59        60\n",
      "          22       1.00      0.85      0.92        60\n",
      "          23       0.91      0.82      0.86        60\n",
      "          24       0.00      0.00      0.00        30\n",
      "          25       0.91      0.98      0.95       150\n",
      "          26       0.95      0.97      0.96        60\n",
      "          27       0.81      0.43      0.57        30\n",
      "          28       0.92      1.00      0.96        60\n",
      "          29       0.96      0.83      0.89        30\n",
      "          30       0.75      0.83      0.79        60\n",
      "          31       0.76      1.00      0.86        90\n",
      "          32       0.43      0.33      0.38        30\n",
      "          33       0.99      0.97      0.98        90\n",
      "          34       1.00      1.00      1.00        60\n",
      "          35       0.98      0.98      0.98       120\n",
      "          36       1.00      1.00      1.00        60\n",
      "          37       1.00      1.00      1.00        30\n",
      "          38       0.98      0.96      0.97       210\n",
      "          39       1.00      1.00      1.00        30\n",
      "          40       1.00      0.35      0.52        60\n",
      "          41       1.00      0.50      0.67        30\n",
      "          42       1.00      0.63      0.78        30\n",
      "\n",
      "    accuracy                           0.90      4410\n",
      "   macro avg       0.89      0.83      0.84      4410\n",
      "weighted avg       0.90      0.90      0.89      4410\n",
      "\n"
     ]
    }
   ],
   "source": [
    "print(classification_report(Y_validation, Y_pred_valid))"
   ]
  },
  {
   "cell_type": "code",
   "execution_count": 79,
   "metadata": {},
   "outputs": [
    {
     "name": "stdout",
     "output_type": "stream",
     "text": [
      "0.9004535147392291\n"
     ]
    }
   ],
   "source": [
    "print(accuracy_score(Y_validation, Y_pred_valid)) "
   ]
  }
 ],
 "metadata": {
  "accelerator": "GPU",
  "colab": {
   "name": "Traffic Sign Classification-Copy2.ipynb",
   "provenance": [],
   "toc_visible": true
  },
  "kernelspec": {
   "display_name": "Python 3",
   "language": "python",
   "name": "python3"
  },
  "language_info": {
   "codemirror_mode": {
    "name": "ipython",
    "version": 3
   },
   "file_extension": ".py",
   "mimetype": "text/x-python",
   "name": "python",
   "nbconvert_exporter": "python",
   "pygments_lexer": "ipython3",
   "version": "3.8.8"
  }
 },
 "nbformat": 4,
 "nbformat_minor": 1
}
